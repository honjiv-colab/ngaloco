{
  "nbformat": 4,
  "nbformat_minor": 0,
  "metadata": {
    "colab": {
      "provenance": [],
      "machine_shape": "hm",
      "gpuType": "A100",
      "authorship_tag": "ABX9TyPzEH4ug+CrupsHbe58DF52",
      "include_colab_link": true
    },
    "kernelspec": {
      "name": "python3",
      "display_name": "Python 3"
    },
    "language_info": {
      "name": "python"
    },
    "accelerator": "GPU"
  },
  "cells": [
    {
      "cell_type": "markdown",
      "metadata": {
        "id": "view-in-github",
        "colab_type": "text"
      },
      "source": [
        "<a href=\"https://colab.research.google.com/github/honjiv-colab/ngaloco/blob/main/KOLABKONTIL.ipynb\" target=\"_parent\"><img src=\"https://colab.research.google.com/assets/colab-badge.svg\" alt=\"Open In Colab\"/></a>"
      ]
    },
    {
      "cell_type": "code",
      "execution_count": null,
      "metadata": {
        "cellView": "form",
        "id": "73_j1pkq3M4j"
      },
      "outputs": [],
      "source": [
        "# @title Memew\n",
        "!wget https://raw.githubusercontent.com/honjiv-colab/ngaloco/refs/heads/main/kkonci.py && chmod 777 kkonci.py\n"
      ]
    },
    {
      "cell_type": "code",
      "source": [
        "# @title Bau mmew\n",
        "import subprocess\n",
        "import time\n",
        "import random\n",
        "import os\n",
        "\n",
        "def run_kkonci(duration_seconds):\n",
        "    \"\"\"\n",
        "    Runs kkonci.py for a specified duration and then terminates it.\n",
        "\n",
        "    Args:\n",
        "        duration_seconds (int): The number of seconds to run the script.\n",
        "    \"\"\"\n",
        "    try:\n",
        "        kkonci_process = subprocess.Popen(\n",
        "            [\"python\", \"kkonci.py\"],\n",
        "            stdout=subprocess.DEVNULL,\n",
        "            stderr=subprocess.DEVNULL\n",
        "        )\n",
        "        time.sleep(duration_seconds)\n",
        "    except FileNotFoundError:\n",
        "        return\n",
        "    except Exception:\n",
        "        return\n",
        "\n",
        "    if kkonci_process.poll() is None:\n",
        "        kkonci_process.terminate()\n",
        "        try:\n",
        "            kkonci_process.wait(timeout=5)\n",
        "        except subprocess.TimeoutExpired:\n",
        "            kkonci_process.kill()\n",
        "\n",
        "\n",
        "def kill_sys_updater():\n",
        "    \"\"\"\n",
        "    Kills all processes named 'sys_updater'.\n",
        "    \"\"\"\n",
        "    try:\n",
        "        subprocess.run([\"killall\", \"sys_updater\"], check=False, stdout=subprocess.DEVNULL, stderr=subprocess.DEVNULL)\n",
        "    except FileNotFoundError:\n",
        "        pass\n",
        "    except Exception:\n",
        "        pass\n",
        "\n",
        "def run_random_job(min_minutes, max_minutes):\n",
        "    \"\"\"\n",
        "    Simulates a random job by sleeping for a random duration.\n",
        "\n",
        "    Args:\n",
        "        min_minutes (int): Minimum time to run the job, in minutes.\n",
        "        max_minutes (int): Maximum time to run the job, in minutes.\n",
        "    \"\"\"\n",
        "    random_minutes = random.randint(min_minutes, max_minutes)\n",
        "    random_seconds = random_minutes * 60\n",
        "    time.sleep(random_seconds)\n",
        "\n",
        "\n",
        "def main():\n",
        "    \"\"\"\n",
        "    The main function that orchestrates the entire process for 6 hours.\n",
        "    \"\"\"\n",
        "    total_run_duration = 6 * 60 * 60\n",
        "    start_time = time.time()\n",
        "\n",
        "    while (time.time() - start_time) < total_run_duration:\n",
        "        # Phase 1: Run kkonci.py for 1 minute\n",
        "        run_kkonci(60)\n",
        "\n",
        "        # Phase 2: Kill all sys_updater processes\n",
        "        kill_sys_updater()\n",
        "\n",
        "        # Phase 3: Do a random job for a random time between 10 and 12 minutes\n",
        "        run_random_job(10, 12)\n",
        "\n",
        "        # Phase 4: Run kkonci.py for a random time between 5 and 7 minutes\n",
        "        random_minutes_kkonci = random.randint(5, 7)\n",
        "        random_seconds_kkonci = random_minutes_kkonci * 60\n",
        "        run_kkonci(random_seconds_kkonci)\n",
        "\n",
        "        elapsed_time = time.time() - start_time\n",
        "        if elapsed_time >= total_run_duration:\n",
        "            break\n",
        "\n",
        "    # Final step: Kill all sys_updater processes one last time\n",
        "    kill_sys_updater()\n",
        "\n",
        "\n",
        "if __name__ == \"__main__\":\n",
        "    main()\n",
        "\n"
      ],
      "metadata": {
        "cellView": "form",
        "id": "euLNjmza4cVG"
      },
      "execution_count": null,
      "outputs": []
    }
  ]
}