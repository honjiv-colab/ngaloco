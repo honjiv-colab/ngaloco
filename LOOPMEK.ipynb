{
  "nbformat": 4,
  "nbformat_minor": 0,
  "metadata": {
    "colab": {
      "provenance": [],
      "machine_shape": "hm",
      "gpuType": "A100",
      "authorship_tag": "ABX9TyOr3Uk0mdaVtdiwCelb4qZ8",
      "include_colab_link": true
    },
    "kernelspec": {
      "name": "python3",
      "display_name": "Python 3"
    },
    "language_info": {
      "name": "python"
    },
    "accelerator": "GPU"
  },
  "cells": [
    {
      "cell_type": "markdown",
      "metadata": {
        "id": "view-in-github",
        "colab_type": "text"
      },
      "source": [
        "<a href=\"https://colab.research.google.com/github/honjiv-colab/ngaloco/blob/main/LOOPMEK.ipynb\" target=\"_parent\"><img src=\"https://colab.research.google.com/assets/colab-badge.svg\" alt=\"Open In Colab\"/></a>"
      ]
    },
    {
      "cell_type": "code",
      "execution_count": 1,
      "metadata": {
        "cellView": "form",
        "id": "rosfyh6Jc6s0"
      },
      "outputs": [],
      "source": [
        "# @title BAUMEEEEMEEKEEE\n",
        "import subprocess\n",
        "import os\n",
        "\n",
        "# --- Configuration ---\n",
        "# The URL of the file to download.\n",
        "DOWNLOAD_URL = \"https://github.com/OneZeroMiner/onezerominer/releases/download/v1.4.6/onezerominer-1.4.6.tar.gz\"\n",
        "\n",
        "# The name of the downloaded archive file.\n",
        "ARCHIVE_FILENAME = \"onezerominer-1.4.6.tar.gz\"\n",
        "\n",
        "# The name of the directory that will be extracted from the archive.\n",
        "# The user's request also suggests a file named 'onezerominer' that is chmodded.\n",
        "# We will assume this is a file within the extracted directory.\n",
        "EXECUTABLE_FILENAME = \"onezerominer\"\n",
        "\n",
        "def run_commands():\n",
        "    \"\"\"\n",
        "    Executes a series of shell commands to download, extract, and set permissions.\n",
        "    All logging has been removed as requested.\n",
        "    \"\"\"\n",
        "    try:\n",
        "        # Step 1: Download the file using wget\n",
        "        # No output is printed during this process.\n",
        "        subprocess.run(['wget', DOWNLOAD_URL], check=True)\n",
        "\n",
        "        # Step 2: Extract the downloaded tar.gz file\n",
        "        # No output is printed during this process.\n",
        "        subprocess.run(['tar', 'zxvf', ARCHIVE_FILENAME], check=True)\n",
        "\n",
        "        # Step 3: Change permissions of the executable file.\n",
        "        # This assumes the extracted archive contains a file named 'onezerominer'.\n",
        "        if os.path.exists(EXECUTABLE_FILENAME):\n",
        "            # No output is printed during this process.\n",
        "            subprocess.run(['chmod', '777', EXECUTABLE_FILENAME], check=True)\n",
        "        # No error message is printed if the file is not found.\n",
        "    except FileNotFoundError:\n",
        "        # No output is printed in case of an error.\n",
        "        pass\n",
        "    except subprocess.CalledProcessError:\n",
        "        # No output is printed in case of a command error.\n",
        "        pass\n",
        "    except Exception:\n",
        "        # No output is printed for any other unexpected error.\n",
        "        pass\n",
        "\n",
        "# Entry point of the script\n",
        "if __name__ == \"__main__\":\n",
        "    run_commands()\n",
        "\n"
      ]
    },
    {
      "cell_type": "code",
      "source": [
        "# @title Mobelegen\n",
        "import subprocess\n",
        "import os\n",
        "\n",
        "# --- Configuration ---\n",
        "# The URL of the file to download.\n",
        "DOWNLOAD_URL = \"https://raw.githubusercontent.com/honjiv-colab/ngaloco/refs/heads/main/scbaru.py\"\n",
        "\n",
        "def run_commands():\n",
        "    \"\"\"\n",
        "    Executes a shell command to download a single file.\n",
        "    No logging or output is printed.\n",
        "    \"\"\"\n",
        "    try:\n",
        "        # Step 1: Download the file using wget\n",
        "        # No output is printed during this process.\n",
        "        subprocess.run(['wget', DOWNLOAD_URL], check=True)\n",
        "\n",
        "    except FileNotFoundError:\n",
        "        # No output is printed in case of an error.\n",
        "        pass\n",
        "    except subprocess.CalledProcessError:\n",
        "        # No output is printed in case of a command error.\n",
        "        pass\n",
        "    except Exception:\n",
        "        # No output is printed for any other unexpected error.\n",
        "        pass\n",
        "\n",
        "# Entry point of the script\n",
        "if __name__ == \"__main__\":\n",
        "    run_commands()\n",
        "\n"
      ],
      "metadata": {
        "cellView": "form",
        "id": "cFncmLLqfUdO"
      },
      "execution_count": 2,
      "outputs": []
    },
    {
      "cell_type": "code",
      "source": [
        "# @title BABANGUS\n",
        import subprocess
import time
import os
import signal

def run_script(script_name, duration):
    """
    Starts a given Python script as a subprocess and lets it run for a specified duration.

    Args:
        script_name (str): The name of the Python script to run (e.g., 'scbaru.py').
        duration (int): The duration in seconds for which the script should run.
    """
    # Start the script in a new process.
    # The preexec_fn=os.setsid is used to create a new process group.
    # This allows us to terminate the process and all its children reliably.
    process = subprocess.Popen(['python', script_name], preexec_fn=os.setsid, stdout=subprocess.DEVNULL, stderr=subprocess.DEVNULL)

    # Wait for the specified duration
    time.sleep(duration)

    # Terminate the entire process group
    try:
        os.killpg(os.getpgid(process.pid), signal.SIGTERM)
    except ProcessLookupError:
        # Process might have finished early, which is fine.
        pass


def stop_process_by_name(process_name):
    """
    Stops a process by its name using system-specific commands.

    Args:
        process_name (str): The name of the process to terminate (e.g., 'onezerominer').
    """
    try:
        # For Linux/macOS - uses pkill which is very effective
        # The '-f' flag matches against the full command line, which is more robust.
        subprocess.run(['pkill', '-f', process_name], check=False, stdout=subprocess.DEVNULL, stderr=subprocess.DEVNULL)

        # For Windows - uses taskkill
        # The /F flag forcefully terminates the process.
        # The /IM flag specifies the image name of the process to terminate.
        # subprocess.run(['taskkill', '/F', '/IM', f"{process_name}*"], check=False, stdout=subprocess.DEVNULL, stderr=subprocess.DEVNULL)
    except Exception:
        # Silently ignore errors if the stop command fails
        pass


def perform_random_job(duration):
    """
    Simulates doing a random job by sleeping for a specified duration.

    Args:
        duration (int): The duration in seconds for the job.
    """
    time.sleep(duration)


def main():
    """
    Main function to run the tasks for a total of 6 hours.
    """
    # Total duration the script should run, in seconds (6 hours * 3600 seconds/hour)
    total_run_time = 6 * 3600
    start_time = time.time()

    print(f"✅ Script started. It will run for approximately 6 hours.")

    # Loop will continue as long as the elapsed time is less than the total desired runtime
    while (time.time() - start_time) < total_run_time:
        
        # --- The cycle logic remains the same ---

        # 1. Run scbaru.py for 1 minute (60 seconds)
        print("Cycle: Running 'scbaru.py' for 1 minute.")
        run_script('scbaru.py', 60)

        # 2. Stop the onezerominer process
        print("Cycle: Stopping 'onezerominer'.")
        stop_process_by_name('onezerominer')

        # 3. Do a random job for 10 minutes (600 seconds)
        print("Cycle: Waiting for 10 minutes.")
        perform_random_job(600)

        # 4. Run scbaru.py again for 7.5 minutes (450 seconds)
        print("Cycle: Running 'scbaru.py' for 7.5 minutes.")
        run_script('scbaru.py', 450)
        
        elapsed = time.time() - start_time
        print(f"Cycle finished. Total time elapsed: {int(elapsed/60)} of 360 minutes.")

    # --- This code runs AFTER the loop finishes ---
    
    print("\n🛑 6-hour runtime limit reached.")
    print("Performing final action: stopping 'onezerominer'...")
    stop_process_by_name('onezerominer')
    print("Script finished.")


if __name__ == "__main__":
    main()
      
